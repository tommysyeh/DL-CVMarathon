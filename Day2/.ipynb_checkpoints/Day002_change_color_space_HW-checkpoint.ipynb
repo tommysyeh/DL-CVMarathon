{
 "cells": [
  {
   "cell_type": "code",
   "execution_count": 4,
   "metadata": {},
   "outputs": [],
   "source": [
    "import cv2\n",
    "import numpy as np\n",
    "\n",
    "img_lena_path = 'data/lena.png'\n",
    "img_box_path = 'data/box.png'\n",
    "img_BiS_path = 'data/box_in_scene.png'\n",
    "\n",
    "# 以彩色圖片的方式載入\n",
    "img_lena = cv2.imread(img_lena_path, cv2.IMREAD_COLOR)\n",
    "img_box = cv2.imread(img_box_path, cv2.IMREAD_COLOR)\n",
    "img_BiS = cv2.imread(img_BiS_path, cv2.IMREAD_COLOR)\n",
    "\n",
    "# 改變不同的 color space\n",
    "img_lena_HLS = cv2.cvtColor(img_lena, cv2.COLOR_BGR2HLS)\n",
    "img_lena_LAB = cv2.cvtColor(img_lena, cv2.COLOR_BGR2LAB)\n",
    "img_box_HLS = cv2.cvtColor(img_box, cv2.COLOR_BGR2HLS)\n",
    "img_box_LAB = cv2.cvtColor(img_box, cv2.COLOR_BGR2LAB)\n",
    "img_BiS_HLS = cv2.cvtColor(img_BiS, cv2.COLOR_BGR2HLS)\n",
    "img_BiS_LAB = cv2.cvtColor(img_BiS, cv2.COLOR_BGR2LAB)\n",
    "\n",
    "# 把圖片合併起來方便一起看\n",
    "img_lena_concat = np.hstack((img_lena, img_lena_HLS, img_lena_LAB))\n",
    "img_box_concat = np.hstack((img_box, img_box_HLS, img_box_LAB))\n",
    "img_BiS_concat = np.hstack((img_BiS, img_BiS_HLS, img_BiS_LAB))\n",
    "\n",
    "# 為了要不斷顯示圖片，所以使用一個迴圈\n",
    "while True:\n",
    "    cv2.imshow('lena-RGB-HLS-LAB', img_lena_concat)\n",
    "    cv2.imshow('box-RGB-HLS-LAB', img_box_concat)\n",
    "    cv2.imshow('BiS-RGB-HLS-LAB', img_BiS_concat)\n",
    "\n",
    "    # 直到按下 ESC 鍵才會自動關閉視窗結束程式\n",
    "    k = cv2.waitKey(0)\n",
    "    if k == 27:\n",
    "        cv2.destroyAllWindows()\n",
    "        break"
   ]
  },
  {
   "cell_type": "code",
   "execution_count": null,
   "metadata": {},
   "outputs": [],
   "source": []
  }
 ],
 "metadata": {
  "kernelspec": {
   "display_name": "Python 3",
   "language": "python",
   "name": "python3"
  },
  "language_info": {
   "codemirror_mode": {
    "name": "ipython",
    "version": 3
   },
   "file_extension": ".py",
   "mimetype": "text/x-python",
   "name": "python",
   "nbconvert_exporter": "python",
   "pygments_lexer": "ipython3",
   "version": "3.7.9"
  }
 },
 "nbformat": 4,
 "nbformat_minor": 4
}
